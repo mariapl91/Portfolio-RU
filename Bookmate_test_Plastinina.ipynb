{
 "cells": [
  {
   "cell_type": "code",
   "execution_count": 1,
   "metadata": {},
   "outputs": [],
   "source": [
    "import pandas as pd\n",
    "import datetime\n",
    "from datetime import datetime, date\n",
    "\n",
    "data = pd.read_csv('analyst_test_transactions_db.csv')"
   ]
  },
  {
   "cell_type": "code",
   "execution_count": 2,
   "metadata": {},
   "outputs": [
    {
     "data": {
      "text/html": [
       "<div>\n",
       "<style scoped>\n",
       "    .dataframe tbody tr th:only-of-type {\n",
       "        vertical-align: middle;\n",
       "    }\n",
       "\n",
       "    .dataframe tbody tr th {\n",
       "        vertical-align: top;\n",
       "    }\n",
       "\n",
       "    .dataframe thead th {\n",
       "        text-align: right;\n",
       "    }\n",
       "</style>\n",
       "<table border=\"1\" class=\"dataframe\">\n",
       "  <thead>\n",
       "    <tr style=\"text-align: right;\">\n",
       "      <th></th>\n",
       "      <th>user_id</th>\n",
       "      <th>order_id</th>\n",
       "      <th>reg_date</th>\n",
       "      <th>transaction_date</th>\n",
       "      <th>revenue</th>\n",
       "    </tr>\n",
       "  </thead>\n",
       "  <tbody>\n",
       "    <tr>\n",
       "      <th>0</th>\n",
       "      <td>57562</td>\n",
       "      <td>94545.0</td>\n",
       "      <td>2013-12-22</td>\n",
       "      <td>2015-07-16</td>\n",
       "      <td>1088</td>\n",
       "    </tr>\n",
       "    <tr>\n",
       "      <th>1</th>\n",
       "      <td>40047</td>\n",
       "      <td>81824.0</td>\n",
       "      <td>2013-11-24</td>\n",
       "      <td>2015-01-19</td>\n",
       "      <td>1027</td>\n",
       "    </tr>\n",
       "    <tr>\n",
       "      <th>2</th>\n",
       "      <td>48153</td>\n",
       "      <td>144851.0</td>\n",
       "      <td>2015-07-03</td>\n",
       "      <td>2015-10-29</td>\n",
       "      <td>601</td>\n",
       "    </tr>\n",
       "    <tr>\n",
       "      <th>3</th>\n",
       "      <td>54591</td>\n",
       "      <td>116111.0</td>\n",
       "      <td>2013-07-12</td>\n",
       "      <td>2015-04-30</td>\n",
       "      <td>881</td>\n",
       "    </tr>\n",
       "    <tr>\n",
       "      <th>4</th>\n",
       "      <td>39789</td>\n",
       "      <td>134943.0</td>\n",
       "      <td>2013-05-25</td>\n",
       "      <td>2015-07-21</td>\n",
       "      <td>984</td>\n",
       "    </tr>\n",
       "  </tbody>\n",
       "</table>\n",
       "</div>"
      ],
      "text/plain": [
       "   user_id  order_id    reg_date transaction_date  revenue\n",
       "0    57562   94545.0  2013-12-22       2015-07-16     1088\n",
       "1    40047   81824.0  2013-11-24       2015-01-19     1027\n",
       "2    48153  144851.0  2015-07-03       2015-10-29      601\n",
       "3    54591  116111.0  2013-07-12       2015-04-30      881\n",
       "4    39789  134943.0  2013-05-25       2015-07-21      984"
      ]
     },
     "execution_count": 2,
     "metadata": {},
     "output_type": "execute_result"
    }
   ],
   "source": [
    "data.head()"
   ]
  },
  {
   "cell_type": "code",
   "execution_count": 3,
   "metadata": {},
   "outputs": [
    {
     "data": {
      "text/plain": [
       "user_id             0\n",
       "order_id            0\n",
       "reg_date            0\n",
       "transaction_date    0\n",
       "revenue             0\n",
       "dtype: int64"
      ]
     },
     "execution_count": 3,
     "metadata": {},
     "output_type": "execute_result"
    }
   ],
   "source": [
    "# Проверяем наличие пустых значений\n",
    "data.isnull().sum()"
   ]
  },
  {
   "cell_type": "code",
   "execution_count": 4,
   "metadata": {},
   "outputs": [
    {
     "data": {
      "text/plain": [
       "user_id               int64\n",
       "order_id            float64\n",
       "reg_date             object\n",
       "transaction_date     object\n",
       "revenue               int64\n",
       "dtype: object"
      ]
     },
     "execution_count": 4,
     "metadata": {},
     "output_type": "execute_result"
    }
   ],
   "source": [
    "data.dtypes"
   ]
  },
  {
   "cell_type": "code",
   "execution_count": 5,
   "metadata": {},
   "outputs": [],
   "source": [
    "data.transaction_date = data.transaction_date.astype('datetime64')\n",
    "data.reg_date = data.reg_date.astype('datetime64')"
   ]
  },
  {
   "cell_type": "code",
   "execution_count": 6,
   "metadata": {},
   "outputs": [],
   "source": [
    "# Напишем функцию, которая выводит информацию: кол-во пользователей на начало периода, \n",
    "# кол-во новых пользователей, \n",
    "# кол-во транзакций в указанный месяц, совершенные \"старыми\" пользователями\n",
    "# кол-во транзакций в указанный месяц, совершенные новыми пользователями\n",
    "# месяц должен быть указан в формате 'YYYY-MM'\n",
    "def func1(data, month):\n",
    "    old_users = len(data[data.reg_date < month])\n",
    "    new_users = len(data[data.reg_date == month])\n",
    "    new_trans = len(data[(data.transaction_date == month) & (data.reg_date == month)])\n",
    "    old_trans = len(data[(data.transaction_date == month) & (data.reg_date < month)])\n",
    "    return [old_users, new_users, old_trans, new_trans]"
   ]
  },
  {
   "cell_type": "code",
   "execution_count": 7,
   "metadata": {},
   "outputs": [
    {
     "name": "stdout",
     "output_type": "stream",
     "text": [
      "{'2015-01': [42421, 201, 126, 12], '2015-02': [46616, 127, 166, 7], '2015-03': [50268, 156, 179, 7], '2015-04': [53914, 112, 154, 6], '2015-05': [57325, 128, 245, 18], '2015-06': [60031, 68, 176, 8], '2015-07': [63599, 153, 191, 13], '2015-08': [67975, 165, 315, 15], '2015-09': [71294, 87, 260, 11], '2015-10': [73716, 62, 245, 4], '2015-11': [75955, 69, 423, 23]}\n"
     ]
    }
   ],
   "source": [
    "# Можем рассчитать с помощью данной функции указанные показатели для всех месяцев 2015 года  и сохранить в словарь\n",
    "months = ['2015-01', '2015-02', '2015-03', '2015-04', '2015-05', '2015-06', '2015-07', '2015-08', '2015-09', '2015-10', '2015-11']\n",
    "stat_dict = {}\n",
    "for month in months:\n",
    "    stat_dict[month] = func1(data, month)\n",
    "\n",
    "print(stat_dict)"
   ]
  },
  {
   "cell_type": "code",
   "execution_count": 8,
   "metadata": {},
   "outputs": [
    {
     "name": "stdout",
     "output_type": "stream",
     "text": [
      "2015-01 5.97%\n",
      "2015-02 5.51%\n",
      "2015-03 4.49%\n",
      "2015-04 5.36%\n",
      "2015-05 14.06%\n",
      "2015-06 11.76%\n",
      "2015-07 8.50%\n",
      "2015-08 9.09%\n",
      "2015-09 12.64%\n",
      "2015-10 6.45%\n",
      "2015-11 33.33%\n"
     ]
    }
   ],
   "source": [
    "# Для того, чтобы сравнить сработала ли акция, рассчитаем по всем месяцам:\n",
    "# 1. Сколько новых пользователей совершали покупку в месяц регистрации (в % от новых пользователей этого месяца)?\n",
    "\n",
    "for key, item in stat_dict.items():\n",
    "    print(key, '{:.2%}'.format(item[3]/item[1]))"
   ]
  },
  {
   "cell_type": "code",
   "execution_count": null,
   "metadata": {},
   "outputs": [],
   "source": [
    "# Видим, что в июле 8,5% новых пользователей совершили покупку в этом же месяце. \n",
    "# При этом в мае и июне данный показатель выше - 14% и 11,8% соответственно, что говорит о том, что акция не повлияла на покупки новых пользователей в том же месяце."
   ]
  }
 ],
 "metadata": {
  "kernelspec": {
   "display_name": "Python 3",
   "language": "python",
   "name": "python3"
  },
  "language_info": {
   "codemirror_mode": {
    "name": "ipython",
    "version": 3
   },
   "file_extension": ".py",
   "mimetype": "text/x-python",
   "name": "python",
   "nbconvert_exporter": "python",
   "pygments_lexer": "ipython3",
   "version": "3.7.4"
  }
 },
 "nbformat": 4,
 "nbformat_minor": 4
}
